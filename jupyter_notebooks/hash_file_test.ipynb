{
 "cells": [
  {
   "cell_type": "code",
   "execution_count": 2,
   "id": "56099f26",
   "metadata": {},
   "outputs": [],
   "source": [
    "import hashlib"
   ]
  },
  {
   "cell_type": "code",
   "execution_count": 3,
   "id": "5a55ba26",
   "metadata": {},
   "outputs": [],
   "source": [
    "import os"
   ]
  },
  {
   "cell_type": "code",
   "execution_count": 5,
   "id": "9e2cc835",
   "metadata": {},
   "outputs": [],
   "source": [
    "file = \"my_h5_model.h5\""
   ]
  },
  {
   "cell_type": "code",
   "execution_count": 12,
   "id": "11b5c5c5",
   "metadata": {},
   "outputs": [
    {
     "name": "stdout",
     "output_type": "stream",
     "text": [
      "MD5: c7d452c5c9097ee4f934d4c8201785b7\n",
      "SHA1: be5db20dc9f98901623ded571e9ede6c13a4abac\n",
      "SHA256: 8c57fc003167b9e8988d47a97e144560de3f224988e336ed61975b2084c3bcce\n"
     ]
    }
   ],
   "source": [
    "BUF_SIZE = 65536  # lets read stuff in 64kb chunks!\n",
    "\n",
    "md5 = hashlib.md5()\n",
    "sha1 = hashlib.sha1()\n",
    "sha256 = hashlib.sha256()\n",
    "with open(file, 'rb') as f:\n",
    "    while True:\n",
    "        data = f.read(BUF_SIZE)\n",
    "        if not data:\n",
    "            break\n",
    "        md5.update(data)\n",
    "        sha1.update(data)\n",
    "        sha256.update(data)\n",
    "\n",
    "print(\"MD5: {0}\".format(md5.hexdigest()))\n",
    "print(\"SHA1: {0}\".format(sha1.hexdigest()))\n",
    "print(\"SHA256: {0}\".format(sha256.hexdigest()))"
   ]
  }
 ],
 "metadata": {
  "kernelspec": {
   "display_name": "Python 3 (ipykernel)",
   "language": "python",
   "name": "python3"
  },
  "language_info": {
   "codemirror_mode": {
    "name": "ipython",
    "version": 3
   },
   "file_extension": ".py",
   "mimetype": "text/x-python",
   "name": "python",
   "nbconvert_exporter": "python",
   "pygments_lexer": "ipython3",
   "version": "3.8.2"
  }
 },
 "nbformat": 4,
 "nbformat_minor": 5
}
